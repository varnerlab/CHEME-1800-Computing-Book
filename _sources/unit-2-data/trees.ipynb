{
 "cells": [
  {
   "cell_type": "markdown",
   "id": "fd18fcf2",
   "metadata": {},
   "source": [
    "# Data Structures\n",
    "\n",
    "## Introduction\n",
    "Fill me in.\n",
    "\n",
    "---\n",
    "\n",
    "## Linear data structures\n",
    "Fill me in\n",
    "\n",
    "### Arrays\n",
    "Fill me in\n",
    "\n",
    "### Linked lists\n",
    "Fill me in\n",
    "\n",
    "### Stacks\n",
    "Fill me in\n",
    "\n",
    "### Queues\n",
    "Fill me in\n",
    "\n",
    "## Non-linear data structures\n",
    "Fill me in\n",
    "\n",
    "### Trees\n",
    "Fill me in\n",
    "\n",
    "### Graphs\n",
    "Fill me in\n",
    "\n",
    "---\n",
    "\n",
    "## Summary \n",
    "Fill me in."
   ]
  }
 ],
 "metadata": {
  "jupytext": {
   "formats": "md:myst",
   "text_representation": {
    "extension": ".md",
    "format_name": "myst"
   }
  },
  "kernelspec": {
   "display_name": "Julia",
   "language": "julia",
   "name": "julia-1.8"
  },
  "language_info": {
   "file_extension": ".jl",
   "mimetype": "application/julia",
   "name": "julia",
   "version": "1.8.2"
  },
  "source_map": [
   11
  ]
 },
 "nbformat": 4,
 "nbformat_minor": 5
}