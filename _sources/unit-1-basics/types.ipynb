{
 "cells": [
  {
   "cell_type": "markdown",
   "id": "bd26c1b3",
   "metadata": {},
   "source": [
    "# Variables, Types and Expressions \n",
    "\n",
    "## Introduction\n",
    "Fill me in. \n",
    "\n",
    "---\n",
    "\n",
    "## Variables and Types\n",
    "A _variable_ is like a box that holds a value, and that value has a _type_. For example, types can be numbers such as `3`, Boolean values like `true` or `false` or text like:\n",
    "\n",
    ">\"Your computer is the only thing in the universe that unconditionally loves you, perhaps excluding your mother. Your computer is eager to do anything you ask it to do with no pushback and no attitude. You just need to know how to talk to it!\"\n",
    "\n",
    "However, computers and Humans don't speak the same language. Humans understand that `3` is an integer, and `Julia rocks` is text, but the computer doesn't see these values the same way we do. For a computer, everything is a [binary number](https://en.wikipedia.org/wiki/Binary_number), i.e., numbers written to the `base 2`. From this perspective, integers are binary numbers, text is a set of binary numbers, Boolean values are binary numbers, etc. \n",
    "\n",
    "At the smallest scale, information is stored as bits and bytes in the computer. A `bit` is the smallest unit of storage on a computer; a `bit` is a `0` or a `1`. However, a `bit` is too tiny for practical computing tasks. Instead, `bits` are grouped into `bytes`; a group of 8 bits equals  1 $\\times$ `byte`. Different types of things, e.g., integers or text are then represented as different numbers of `bytes`.\n",
    "\n",
    "### Numerical and logical types\n",
    "Integers, floating-point, and logical values are the basic building blocks of arithmetic and computation. Built-in representations of these values, i.e., the structure that the computer understands, are called `numeric primitives.` On the other hand, the models of numbers that humans understand, e.g., integers, floating-point numbers, etc., are called numeric literals, e.g., `1` is an integer literal, and `1.0` is a floating-point literal. Modern programming languages such as [Julia](https://docs.julialang.org) and [Python](https://www.python.org) provide a broad range of primitive numeric types. Further, many standard mathematical operations are defined over them, e.g., addition and subtraction.\n",
    "\n",
    "The in-memory `numeric primitives` representation of integers, floating-point, and logical values is referred to as ; numeric primitives, which the computer understands, are binary numbers (numbers written to the `base 2`). However, there are also other interesting number systems that you may also see, e.g., numbers written in the `base 8` (octal) or `base 16` (hexadecimal) system:\n",
    "\n",
    "````{prf:definition} Base $b$ numbers\n",
    ":label: defn-number-system\n",
    "\n",
    "The base $b$ representation of a number is a way of writing numbers using the digits:\n",
    "\n",
    "```{math}\n",
    "\\left\\{0, 1, \\dots, (b − 1)\\right\\}\n",
    "```\n",
    "\n",
    "For any $n\\geq{0}$ and $b\\geq{2}$, there is a string of digits $\\left(a_{k}a_{k-1},\\dots,a_{2}a_{1}a_{0}\\right)_{b}$ such that:\n",
    "\n",
    "```{math}\n",
    ":label: eqn-base-b-number\n",
    "n = \\sum_{j=0}^{k-1}a_{j}b^{j}\n",
    "```\n",
    "\n",
    "The quantity $k$ denotes the number of bits; $k$ depends upon the computing hardware and the type of data being represented.\n",
    "````\n",
    "\n",
    "#### Integers\n",
    "Integers, represented by the set $\\mathbb{Z}$, are the positive and negative natural numbers along with zero, e.g., ($\\dots$, -3,-2, -1, 0, 1, 2, 3, $\\dots$). The in-memory representation of integers, i.e., their `numeric primitive` representation, is typically a 4 $\\times$ byte (32-bit) or 8 $\\times$ byte (64-bit) binary number.\n",
    "\n",
    "````{prf:example} 64-bit integer in binary format\n",
    ":class: dropdown\n",
    ":label: example-binary-128\n",
    "\n",
    "Show that the 64-bit representation of the integer $x=1800$ is given by:\n",
    "\n",
    "```{math}\n",
    "(0000000000000000000000000000000000000000000000000000011100001000)_{2}\n",
    "```\n",
    "\n",
    "__Solution__:\n",
    "First, this is a binary number, i.e., a number to the base `2`; thus, it is composed of the digit set $\\left\\{0,1\\right\\}$. Next, we know that k = 64-bits; thus, the summation in {prf:ref}`defn-number-system` will run from $0\\rightarrow{63}$. However, all the digits are zero _except_ for a few positions; thus, the summation in {prf:ref}`defn-number-system` is given by:\n",
    "\n",
    "```{math}\n",
    "1800 = 2^{3}+2^{8}+2^{9}+2^{10}\n",
    "```\n",
    "\n",
    "__Tip__: The [bitstring](https://docs.julialang.org/en/v1/base/numbers/#Base.bitstring) functioin in [Julia](https://docs.julialang.org/en/v1/) displays the binary representation of different types of data, e.g., numerical data types as well as strings and characters.\n",
    "````\n",
    "\n",
    "##### What about negative integers?\n",
    "{prf:ref}`defn-number-system` shows the representation of numbers in different bases, e.g., integers written in `base 2` (binary numbers). However, the set $\\mathbb{Z}$ also contains negative numbers; how can we represent negative numbers in a `base 2` system? \n",
    "\n",
    "Negative integers are created using [two's complement](https://en.wikipedia.org/wiki/Two%27s_complement), a mathematical operation to reversibly convert a positive binary number into a negative binary number with equivalent (but negative) value. [Two's complement](https://en.wikipedia.org/wiki/Two%27s_complement) is executed by first inverting all bits, i.e., flipping `0` $\\rightarrow$ `1` and vice-versa, and then addding (using binary addition) a `1` to the least signaficant digit (far right bit) of the result. \n",
    "\n",
    "````{prf:example} Two's complement\n",
    ":class: dropdown\n",
    ":label: example-twos-complement\n",
    "\n",
    "Develop the 64-bit pattern for $\\bar{x}=-8$ using [two's complement](https://en.wikipedia.org/wiki/Two%27s_complement). \n",
    "\n",
    "__Solution__: The 64-bit patterm for $x=8$ is given by:\n",
    "\n",
    "```{math}\n",
    ":label: eqn-64-bit-value-positive-8\n",
    "8 = \\left(0\\dots00001000\\right)_{2}\n",
    "```\n",
    "\n",
    "Step 1: Flip all the bits from `0` $\\rightarrow$ `1` and vice-versa:\n",
    "\n",
    "```{math}\n",
    "\\left(1\\dots11110111\\right)_{2}\n",
    "```\n",
    "\n",
    "Step 2: Add a `1` to the least-significant bit which gives:\n",
    "\n",
    "```{math}\n",
    "-8 = \\left(1\\dots11111000\\right)_{2}\n",
    "```\n",
    "\n",
    "````\n",
    "\n",
    "##### Boolean values\n",
    "Boolean values, e.g., values of `true` and `false` are represented in modern languages using a `Bool` type. For example, both [Julia](https://docs.julialang.org) and [Python](https://www.python.org) have built-in Boolean types. However, foundational languages such as the [C-programming language](https://en.wikipedia.org/wiki/C_(programming_language)) do not have a dedicated Boolean type; instead, Boolean values in [C](https://en.wikipedia.org/wiki/C_(programming_language)) were represented by integers, i.e., `true = 1` and `false = 0`. Thus, it should not be surprising that in languages such as [Julia](https://docs.julialang.org), which is a distant relative of [C](https://en.wikipedia.org/wiki/C_(programming_language)), that `Bool` is implemented as a subtype of integer. \n",
    "\n",
    "In [Julia](https://docs.julialang.org) values of the `Bool` type are a kind of number: `false` is numerically equal to `0` while true is equivalent to `1`. However, unlike an `Int64`, only 1$\\times$byte (8-bits) is required to store a `Bool` in [Julia](https://docs.julialang.org) (because a `Bool` can only assume one of two possible values):"
   ]
  },
  {
   "cell_type": "code",
   "execution_count": 1,
   "id": "1c6a06ce",
   "metadata": {},
   "outputs": [
    {
     "name": "stdout",
     "output_type": "stream",
     "text": [
      "False: 00000000 and True: 00000001\n"
     ]
    }
   ],
   "source": [
    "# These are examples a expressions, that set a Bool value\n",
    "value_true = true\n",
    "value_false = false\n",
    "\n",
    "# What is the bitstring that encodes this value?\n",
    "println(\"False: $(bitstring(value_false)) and True: $(bitstring(value_true))\")"
   ]
  },
  {
   "cell_type": "markdown",
   "id": "77f58173",
   "metadata": {},
   "source": [
    "#### Floating point values\n",
    "Scalar floating point numbers, i.e., decimal numbers in the set $\\mathbb{R}$, are stored using 4$\\times$bytes (32-bits) following the [IEEE-754 standard](https://en.wikipedia.org/wiki/IEEE_754). However, unlike integer values, which can be represented exactly, floating-point numbers are can only be _approximated_ in a computer system. \n",
    "\n",
    "### Character and string values\n",
    "Textual data on a computer is represented as the `String` type. Strings are modeled as a sequence of characters, where each character is of type `Char`.\n",
    "\n",
    "#### Character values\n",
    "Characters on the computer, e.g., the letter `A` are type `Char`. Traditionally, characters were represented via the [American Standard Code for Information Interchange (ASCII) system](https://en.wikipedia.org/wiki/ASCII), which was a set of 7-bit teleprinter codes for the [AT&T](https://www.att.com) Teletypewriter exchange (TWX) network. For example, the character `A` in the ASCII system has index 65. Later, 8-bit character mappings were developed, i.e., the so-called [extended ASCII systems](https://en.wikipedia.org/wiki/Extended_ASCII), which had $0,\\dots,255$ possible character values.\n",
    "\n",
    "Modern computer systems use the [Unicode](https://en.wikipedia.org/wiki/Unicode) standard, which encodes approximately 1.1 million possible characters, where the first 128 of these are the same as the original ASCII set. [Unicode](https://en.wikipedia.org/wiki/Unicode) characters, which use up to 4 bytes (32-bits) of storage per character, are indexed using the `base 16` (hexadecimal) number systems.\n",
    "\n",
    "\n",
    "````{prf:example} Unicode and Hexadecimal \n",
    ":class: dropdown\n",
    ":label: example-unicode-J\n",
    "\n",
    "Compute the [Unicode](https://en.wikipedia.org/wiki/Unicode) index for the character `J`. \n",
    "\n",
    "__Solution__: The character `J` has index 74 in the ASCII table (which is included in the [Unicode](https://en.wikipedia.org/wiki/Unicode) system). Thus, first, we must convert 74 to a `base 16` (hexadecimal) number and then convert that to the [Unicode](https://en.wikipedia.org/wiki/Unicode) index format; [Unicode](https://en.wikipedia.org/wiki/Unicode) indexes left-pad the hexadecimal character value with zeros until a 4-digit code is generated, and then `U+` is appended to the four-digit code. \n",
    "\n",
    "Hexadecimal numbers use decimal digits and six extra symbols; the decimal values $(0,1,\\dots,9)$, and the letters A, B, C, D, E, and F where hexadecimal A = decimal 10, thru hexadecimal F = decimal 15 are used in the hexadecimal numbering system.\n",
    "\n",
    "__Approach__:\n",
    "* Step 1: Divide the given decimal number by 16 and write down the quotient and remainder\n",
    "* Step 2: Divide the previous quotient by 16 and write the down the quotient and remainder\n",
    "* Step 3: Repeat steps 1 and 2 until the quotient equals zero.\n",
    "* Step 4: Map all the remainder values to their corresponding hexadecimal equivalents \n",
    "* Step 5: Starting with the last value and moving to the first, write each of the hexadecimal values\n",
    "\n",
    "Let's compute the hexadecimal equivalent of 74:\n",
    "\n",
    "| value | quotient | remainder | hex code |\n",
    "| ----- | -------- | --------- | ------- |\n",
    "74/16 | 4 | 10 | A |\n",
    "4/16 | 0 | 4 | 4 |\n",
    "\n",
    "Thus, the hexadecimal equivalent of 74 is 4A, and the [Unicode](https://en.wikipedia.org/wiki/Unicode) index for `J` is `U+004A`.\n",
    "\n",
    "````\n",
    "\n",
    "#### String values\n",
    "Older languages such as the [C-programming language](https://en.wikipedia.org/wiki/C_(programming_language)) didn't have a formal `String` type; instead, strings were encoded as arrays of characters, i.e., strings were of type `Char[]`. However, modern languages, such as \n",
    "[Julia](https://docs.julialang.org) or [Python](https://www.python.org) have sophisticated `String` types constructed using the [Unicode](https://en.wikipedia.org/wiki/Unicode) character system. \n",
    "\n",
    "While the number and types of characters that can be incorporated into a [Julia](https://docs.julialang.org) `String` is more diverse, in many ways, strings in modern languages share features with the older representation of text. `Strings` can be created using double quotes in [Julia](https://docs.julialang.org) or single quotes in [Python](https://www.python.org):\n",
    "\n",
    "\n",
    "`````{tab-set}\n",
    "````{tab-item} julia\n",
    "```julia\n",
    "# This is an expression to create a string in Julia\n",
    "string = \"Julia strings use double quotes\"\n",
    "```\n",
    "````\n",
    "\n",
    "````{tab-item} python\n",
    "```python\n",
    "# This is an expression to create a string in Python\n",
    "string = 'Python strings use single quotes. Why python, why?'\n",
    "```\n",
    "````\n",
    "`````\n",
    "\n",
    "A `String` can be indexed like an array in both [Julia](https://docs.julialang.org) and  [Python](https://www.python.org), for example:"
   ]
  },
  {
   "cell_type": "code",
   "execution_count": 2,
   "id": "23dc9af4",
   "metadata": {},
   "outputs": [
    {
     "name": "stdout",
     "output_type": "stream",
     "text": [
      "Julia\n"
     ]
    }
   ],
   "source": [
    "# This is an expression to create a string in Julia\n",
    "string = \"Julia strings use double quotes\"\n",
    "\n",
    "# grab a range of characters (from 1 to 5)\n",
    "println(string[1:5])"
   ]
  },
  {
   "cell_type": "markdown",
   "id": "e81a24ae",
   "metadata": {},
   "source": [
    "The fragments generated by indexing, e.g., the range `string[1:5]` operation shown above are also `Strings`:"
   ]
  },
  {
   "cell_type": "code",
   "execution_count": 3,
   "id": "ac03e79c",
   "metadata": {},
   "outputs": [
    {
     "name": "stdout",
     "output_type": "stream",
     "text": [
      "The fragment is type -> String\n"
     ]
    }
   ],
   "source": [
    "# This is an expression to create a string in Julia\n",
    "string = \"Julia strings use double quotes\"\n",
    "\n",
    "# grab a range of characters\n",
    "fragment = string[1:5]\n",
    "\n",
    "# what type is the stuff that I just grabbed?\n",
    "println(\"The fragment is type -> $(typeof(fragment))\")"
   ]
  },
  {
   "cell_type": "markdown",
   "id": "bee94fb3",
   "metadata": {},
   "source": [
    "However, if you want (or need) to work with the invidual characters, you can convert a `String` type into a `Array{Char,1}` type using the `collect` function in [Julia](https://docs.julialang.org):"
   ]
  },
  {
   "cell_type": "code",
   "execution_count": 4,
   "id": "224cf7ab",
   "metadata": {},
   "outputs": [
    {
     "data": {
      "text/plain": [
       "21-element Vector{Char}:\n",
       " 'J': ASCII/Unicode U+004A (category Lu: Letter, uppercase)\n",
       " 'u': ASCII/Unicode U+0075 (category Ll: Letter, lowercase)\n",
       " 'l': ASCII/Unicode U+006C (category Ll: Letter, lowercase)\n",
       " 'i': ASCII/Unicode U+0069 (category Ll: Letter, lowercase)\n",
       " 'a': ASCII/Unicode U+0061 (category Ll: Letter, lowercase)\n",
       " ' ': ASCII/Unicode U+0020 (category Zs: Separator, space)\n",
       " 'r': ASCII/Unicode U+0072 (category Ll: Letter, lowercase)\n",
       " 'o': ASCII/Unicode U+006F (category Ll: Letter, lowercase)\n",
       " 'c': ASCII/Unicode U+0063 (category Ll: Letter, lowercase)\n",
       " 'k': ASCII/Unicode U+006B (category Ll: Letter, lowercase)\n",
       " 's': ASCII/Unicode U+0073 (category Ll: Letter, lowercase)\n",
       " ' ': ASCII/Unicode U+0020 (category Zs: Separator, space)\n",
       " 't': ASCII/Unicode U+0074 (category Ll: Letter, lowercase)\n",
       " 'h': ASCII/Unicode U+0068 (category Ll: Letter, lowercase)\n",
       " 'e': ASCII/Unicode U+0065 (category Ll: Letter, lowercase)\n",
       " ' ': ASCII/Unicode U+0020 (category Zs: Separator, space)\n",
       " 'h': ASCII/Unicode U+0068 (category Ll: Letter, lowercase)\n",
       " 'o': ASCII/Unicode U+006F (category Ll: Letter, lowercase)\n",
       " 'u': ASCII/Unicode U+0075 (category Ll: Letter, lowercase)\n",
       " 's': ASCII/Unicode U+0073 (category Ll: Letter, lowercase)\n",
       " 'e': ASCII/Unicode U+0065 (category Ll: Letter, lowercase)"
      ]
     },
     "execution_count": 4,
     "metadata": {},
     "output_type": "execute_result"
    }
   ],
   "source": [
    "# This is an expression to create a string in Julia\n",
    "string = \"Julia rocks the house\"\n",
    "\n",
    "# Make an array of characters \n",
    "array = collect(string)"
   ]
  },
  {
   "cell_type": "markdown",
   "id": "c1f1c11c",
   "metadata": {},
   "source": [
    "### Custom types\n",
    "Fill me in\n",
    "\n",
    "## Expressions\n",
    "Fill me in.\n",
    "\n",
    "---\n",
    "\n",
    "# Summary\n",
    "Fill me in."
   ]
  }
 ],
 "metadata": {
  "jupytext": {
   "formats": "md:myst",
   "text_representation": {
    "extension": ".md",
    "format_name": "myst"
   }
  },
  "kernelspec": {
   "display_name": "Julia",
   "language": "julia",
   "name": "julia-1.8"
  },
  "language_info": {
   "file_extension": ".jl",
   "mimetype": "application/julia",
   "name": "julia",
   "version": "1.8.2"
  },
  "source_map": [
   11,
   113,
   120,
   187,
   193,
   197,
   206,
   210,
   216
  ]
 },
 "nbformat": 4,
 "nbformat_minor": 5
}